{
  "nbformat": 4,
  "nbformat_minor": 0,
  "metadata": {
    "colab": {
      "name": "CI001_HW5.ipynb",
      "provenance": [],
      "collapsed_sections": []
    },
    "kernelspec": {
      "display_name": "Python 3",
      "language": "python",
      "name": "python3"
    },
    "language_info": {
      "codemirror_mode": {
        "name": "ipython",
        "version": 3
      },
      "file_extension": ".py",
      "mimetype": "text/x-python",
      "name": "python",
      "nbconvert_exporter": "python",
      "pygments_lexer": "ipython3",
      "version": "3.9.2"
    }
  },
  "cells": [
    {
      "cell_type": "markdown",
      "metadata": {
        "id": "heBxPYfc0U22"
      },
      "source": [
        "# Your info\n",
        "\n",
        "Full name: Arman Heydari\n",
        "\n",
        "Student ID: 97521252"
      ]
    },
    {
      "cell_type": "markdown",
      "metadata": {
        "id": "VAAR47H8-5ML"
      },
      "source": [
        "#Q2"
      ]
    },
    {
      "cell_type": "markdown",
      "source": [
        "generates a combination of 1 and 0, with length n (input of method)."
      ],
      "metadata": {
        "id": "czxWL7Rjk834"
      }
    },
    {
      "cell_type": "code",
      "metadata": {
        "id": "wqaQdtV9-rMs"
      },
      "source": [
        "# Q2_graded\n",
        "from random import randint\n",
        "def generate_random_binary(n):\n",
        "  result=''\n",
        "  for i in range(n):\n",
        "    result+=str(randint(0, 1))\n",
        "  return result"
      ],
      "execution_count": null,
      "outputs": []
    },
    {
      "cell_type": "markdown",
      "source": [
        "returns the decimal (integer) value of a binary string number."
      ],
      "metadata": {
        "id": "8fcWD8eGlKtn"
      }
    },
    {
      "cell_type": "code",
      "metadata": {
        "id": "ZbWcENTebKol"
      },
      "source": [
        "# Q2_graded\n",
        "def binary_to_decimal(binary_number):\n",
        "  c = len(binary_number) - 1\n",
        "  result=0\n",
        "  for digit in binary_number:\n",
        "    result += 2**c * int(digit)\n",
        "    c -= 1\n",
        "  return result"
      ],
      "execution_count": null,
      "outputs": []
    },
    {
      "cell_type": "markdown",
      "source": [
        "here we define the fitness function of this problem. it is always a positive value so the best value for fitness is 0, which is a solution of our equation."
      ],
      "metadata": {
        "id": "iSUTJY2ulWAG"
      }
    },
    {
      "cell_type": "code",
      "metadata": {
        "id": "b2NZDXDKbK5x"
      },
      "source": [
        "# Q2_graded\n",
        "def fitness(x, y):\n",
        "  return abs(2*x*x + y - 59)"
      ],
      "execution_count": null,
      "outputs": []
    },
    {
      "cell_type": "markdown",
      "source": [
        "b1 and b2 are two binary string numbers with equal length. with this method, we randomly choose a part of these strings and swith them together. so we return 2 children for any input parents."
      ],
      "metadata": {
        "id": "exA03dE5llHI"
      }
    },
    {
      "cell_type": "code",
      "source": [
        "# Q2_graded\n",
        "def two_point_crossover(b1, b2):\n",
        "  l = len(b1)\n",
        "  p1 = randint(0, l)\n",
        "  p2 = randint(0, l)\n",
        "  if p2<p1:\n",
        "    p1, p2 = p2,p1\n",
        "  b3 = b1[0:p1] + b2[p1:p2] + b1[p2:l]\n",
        "  b4 = b2[0:p1] + b1[p1:p2] + b2[p2:l]\n",
        "  return b3, b4"
      ],
      "metadata": {
        "id": "C16N6ry10GWM"
      },
      "execution_count": null,
      "outputs": []
    },
    {
      "cell_type": "markdown",
      "source": [
        "with mutation, the algorithm can test various states. b is a binary number and probability is the chance of mutation. \n",
        "\n",
        "random.random() returns a float number between 0 and 1. so if the probability is for example 0.1, the random number is less than probability with chance of 0.1. so I used it for occuring mutation."
      ],
      "metadata": {
        "id": "iyXYQwOSl_YF"
      }
    },
    {
      "cell_type": "code",
      "source": [
        "# Q2_graded\n",
        "import random\n",
        "def mutation(b, probability):\n",
        "  if random.random() < probability:\n",
        "    m1 = randint(0, 5)\n",
        "    if b[m1] == '0':\n",
        "      b = b[0:m1] + '1' + b[m1+1:]\n",
        "    else:\n",
        "      b = b[0:m1] + '0' + b[m1+1:]\n",
        "  return b"
      ],
      "metadata": {
        "id": "iCTWWLH8SkJg"
      },
      "execution_count": null,
      "outputs": []
    },
    {
      "cell_type": "markdown",
      "source": [
        "with calling this method for any x,y you can add them to possible answers (population list). and it fitness will calculated and added to fitnesses list, excatly on the same index as population."
      ],
      "metadata": {
        "id": "WZfbLNEanCqo"
      }
    },
    {
      "cell_type": "code",
      "metadata": {
        "id": "5wqguXxzbLre"
      },
      "source": [
        "# Q2_graded\n",
        "def add_chromosome(x, y, population, fitnesses):\n",
        "  f = fitness(binary_to_decimal(x), binary_to_decimal(y))\n",
        "  if f not in fitnesses:\n",
        "    population.append((x, y))\n",
        "    fitnesses.append(f)\n",
        "  return population, fitnesses"
      ],
      "execution_count": null,
      "outputs": []
    },
    {
      "cell_type": "markdown",
      "source": [
        "using this function, we initialize the population randomly with 'binary_length' genes for each chromosome and n random chromosomes on the population."
      ],
      "metadata": {
        "id": "397qcNzbnXq7"
      }
    },
    {
      "cell_type": "code",
      "metadata": {
        "id": "VWUc_lgJbLJ_"
      },
      "source": [
        "# Q2_graded\n",
        "def random_initialization(n, binary_length):\n",
        "  population = []\n",
        "  fitnesses = []\n",
        "  for i in range(n):\n",
        "    population, fitnesses = add_chromosome(generate_random_binary(binary_length), generate_random_binary(binary_length), population, fitnesses)\n",
        "  return population, fitnesses"
      ],
      "execution_count": null,
      "outputs": []
    },
    {
      "cell_type": "markdown",
      "source": [
        "this is the main function actually. where you can call it with apporpriate hyperparameters and see the result of genetic programming for this problem."
      ],
      "metadata": {
        "id": "parX_CDGnqzf"
      }
    },
    {
      "cell_type": "code",
      "metadata": {
        "id": "53hnB-d4bLXY"
      },
      "source": [
        "# Q2_graded\n",
        "def genetic_programming(number_of_initialize_population, binary_length, max_population, mutation_probability):\n",
        "  counter = 0\n",
        "  population, fitnesses = random_initialization(number_of_initialize_population, binary_length)\n",
        "  while True:\n",
        "    l = len(population)\n",
        "    if l>max_population:\n",
        "      population = population[l-max_population:]\n",
        "      fitnesses = fitnesses[l-max_population:]\n",
        "    \n",
        "    temp = sorted(set(fitnesses))\n",
        "    best_couple_index = fitnesses.index(temp[0])\n",
        "    second_best_couple_index = fitnesses.index(temp[1])\n",
        "    \n",
        "    x_best, y_best = population[best_couple_index]\n",
        "    x_second_best, y_second_best = population[second_best_couple_index]\n",
        "\n",
        "    if temp[0] == 0:\n",
        "      print(\"result found after\", counter, \"generations:\")\n",
        "      print('x , y =', x_best, \",\", y_best)\n",
        "      print(\"which means x=\", binary_to_decimal(x_best),\", y=\", binary_to_decimal(y_best))\n",
        "      break\n",
        "    \n",
        "    x_new_1, x_new_2 = two_point_crossover(x_best, x_second_best)\n",
        "    y_new_1, y_new_2 = two_point_crossover(y_best, y_second_best)\n",
        "\n",
        "    x_new_1 = mutation(x_new_1, mutation_probability)\n",
        "    x_new_2 = mutation(x_new_2, mutation_probability)\n",
        "    y_new_1 = mutation(y_new_1, mutation_probability)\n",
        "    y_new_2 = mutation(y_new_2, mutation_probability)\n",
        "    \n",
        "    population, fitnesses = add_chromosome(x_new_1, y_new_1, population, fitnesses)\n",
        "    population, fitnesses = add_chromosome(x_new_2, y_new_1, population, fitnesses)\n",
        "    population, fitnesses = add_chromosome(x_new_1, y_new_2, population, fitnesses)\n",
        "    population, fitnesses = add_chromosome(x_new_2, y_new_2, population, fitnesses)\n",
        "\n",
        "    counter+=1"
      ],
      "execution_count": null,
      "outputs": []
    },
    {
      "cell_type": "markdown",
      "source": [
        "run the algorithm:"
      ],
      "metadata": {
        "id": "K32ZKu0_n5Wo"
      }
    },
    {
      "cell_type": "code",
      "source": [
        "# Q2_graded\n",
        "genetic_programming(number_of_initialize_population=10,\n",
        "                    binary_length=6,\n",
        "                    max_population=20,\n",
        "                    mutation_probability=0.1)"
      ],
      "metadata": {
        "colab": {
          "base_uri": "https://localhost:8080/"
        },
        "id": "eENiLqGQYMK5",
        "outputId": "cc94eb5b-f257-4fcb-971b-2644a4227fb2"
      },
      "execution_count": null,
      "outputs": [
        {
          "output_type": "stream",
          "name": "stdout",
          "text": [
            "result found after 57 generations:\n",
            "x , y = 000101 , 001001\n",
            "which means x= 5 , y= 9\n"
          ]
        }
      ]
    },
    {
      "cell_type": "markdown",
      "source": [
        "# Q3"
      ],
      "metadata": {
        "id": "E9fdM6-rp6ER"
      }
    },
    {
      "cell_type": "markdown",
      "source": [
        "some methods are same as last question. with a little different, that we only have x in population not (x,y) for each chromosome."
      ],
      "metadata": {
        "id": "CKvqHf5tdADP"
      }
    },
    {
      "cell_type": "code",
      "source": [
        "# Q3_graded\n",
        "import random\n",
        "\n",
        "def generate_random_binary(n):\n",
        "  result=''\n",
        "  for i in range(n):\n",
        "    result+=str(random.randint(0, 1))\n",
        "  return result\n",
        "\n",
        "\n",
        "def two_point_crossover(b1, b2):\n",
        "  l = len(b1)\n",
        "  p1 = random.randint(0, l)\n",
        "  p2 = random.randint(0, l)\n",
        "  if p2<p1:\n",
        "    p1, p2 = p2,p1\n",
        "  b3 = b1[0:p1] + b2[p1:p2] + b1[p2:l]\n",
        "  b4 = b2[0:p1] + b1[p1:p2] + b2[p2:l]\n",
        "  return b3, b4\n",
        "\n",
        "\n",
        "def mutation(b, probability):\n",
        "  if random.random() < probability:\n",
        "    m1 = random.randint(0, len(b)-1)\n",
        "    if b[m1] == '0':\n",
        "      b = b[0:m1] + '1' + b[m1+1:]\n",
        "    else:\n",
        "      b = b[0:m1] + '0' + b[m1+1:]\n",
        "  return b"
      ],
      "metadata": {
        "id": "fvvwGQoqp8Io"
      },
      "execution_count": null,
      "outputs": []
    },
    {
      "cell_type": "markdown",
      "source": [
        "the fitness function surely different from question that we solved before. here the fitness should decrease with increasing the sum of values that the thief piched up. so we calculate the sum and weight of piched stuff, the we return 1/value_sum if he piched something and if the weights are not higher than the bag's capacity.\n",
        "\n",
        "for the state that the weights sum is higher than capacity, we return 1 because it is a bad case and not fitted well. other cases are less than 1 and it's ok."
      ],
      "metadata": {
        "id": "XL9TcDv4oAyY"
      }
    },
    {
      "cell_type": "code",
      "source": [
        "# Q3_graded\n",
        "def fitness(x, weights, values, capacity=25):\n",
        "  weight_sum = 0\n",
        "  value_sum = 0\n",
        "  for i in range(len(x)):\n",
        "    if x[i] == '1':\n",
        "      weight_sum += weights[i]\n",
        "      value_sum += values[i]\n",
        "  if weight_sum>25 or value_sum==0:\n",
        "    return 1\n",
        "  return 1.0/value_sum"
      ],
      "metadata": {
        "id": "6ETsyYMgd3SA"
      },
      "execution_count": null,
      "outputs": []
    },
    {
      "cell_type": "markdown",
      "source": [
        "using this function, we initialize the population randomly with 'binary_length' genes for each chromosome and 'number_of_initialize_population' random chromosomes on the population.\n",
        "\n",
        "we need values and weights to use fitness function and calculate fitnesses for the initialized population."
      ],
      "metadata": {
        "id": "7hmT-6WZpDDJ"
      }
    },
    {
      "cell_type": "code",
      "source": [
        "# Q3_graded\n",
        "def random_initialization(values, weights, number_of_initialize_population, binary_length):\n",
        "  population = []\n",
        "  fitnesses = []\n",
        "  for i in range(number_of_initialize_population):\n",
        "    x = generate_random_binary(binary_length)\n",
        "    population.append(x)\n",
        "    fitnesses.append(fitness(x, weights, values))\n",
        "  return population, fitnesses"
      ],
      "metadata": {
        "id": "3ML4giZzmaAR"
      },
      "execution_count": null,
      "outputs": []
    },
    {
      "cell_type": "markdown",
      "source": [
        "this is the main function actually. where you can call it with apporpriate hyperparameters and of course weights, values lists and see the result of genetic programming for this problem."
      ],
      "metadata": {
        "id": "saYNLIKFpcmp"
      }
    },
    {
      "cell_type": "code",
      "source": [
        "# Q3_graded\n",
        "def genetic_knapsack(values, weights, number_of_initialize_population, binary_length, max_population, mutation_probability, generations):\n",
        "  population, fitnesses = random_initialization(values, weights, number_of_initialize_population, binary_length)\n",
        "  for i in range(generations):\n",
        "    l = len(population)\n",
        "    if l>max_population:\n",
        "      population = population[l-max_population:]\n",
        "      fitnesses = fitnesses[l-max_population:]\n",
        "\n",
        "    temp = sorted(set(fitnesses))\n",
        "    x_best = population[fitnesses.index(temp[0])]\n",
        "    x_second_best = population[fitnesses.index(temp[1])]\n",
        "\n",
        "    x_new_1, x_new_2 = two_point_crossover(x_best, x_second_best)\n",
        "\n",
        "    x_new_1 = mutation(x_new_1, mutation_probability)\n",
        "    x_new_2 = mutation(x_new_2, mutation_probability)\n",
        "    \n",
        "    if x_new_1 not in population:\n",
        "      population.append(x_new_1)\n",
        "      fitnesses.append(fitness(x_new_1, weights, values))\n",
        "    if x_new_2 not in population:\n",
        "      population.append(x_new_2)\n",
        "      fitnesses.append(fitness(x_new_2, weights, values))\n",
        "  return x_best"
      ],
      "metadata": {
        "id": "hIlrhWfOdzBp"
      },
      "execution_count": null,
      "outputs": []
    },
    {
      "cell_type": "markdown",
      "source": [
        "run the algorithm with informations given by the question:"
      ],
      "metadata": {
        "id": "8qNzZtfDprdo"
      }
    },
    {
      "cell_type": "code",
      "source": [
        "# Q3_graded\n",
        "VALUES = [30, 10, 20, 50, 70, 15, 40, 25]\n",
        "WEIGHTS = [2, 4, 1, 3, 5, 1, 7, 4]\n",
        "NAMES = [\"zomorod\", \"noqre\", \"yaqut\", \"almas\", \"berellian\", \"firuze\", \"aqiq\", \"kahroba\"]\n",
        "\n",
        "best_result = genetic_knapsack(VALUES,\n",
        "                                WEIGHTS,\n",
        "                                number_of_initialize_population=5,\n",
        "                                binary_length=8,\n",
        "                                max_population=10,\n",
        "                                mutation_probability=0.1,\n",
        "                                generations=1000\n",
        "                               )\n",
        "\n",
        "print(\"best chromosome:\", best_result, \" \\n ------------------\")\n",
        "for i in range(len(best_result)):\n",
        "   if best_result[i]=='1':\n",
        "     print(NAMES[i])"
      ],
      "metadata": {
        "colab": {
          "base_uri": "https://localhost:8080/"
        },
        "id": "BD8EVmRon8DF",
        "outputId": "d16e036b-79e4-470d-b22e-ba7243cf0d08"
      },
      "execution_count": null,
      "outputs": [
        {
          "output_type": "stream",
          "name": "stdout",
          "text": [
            "best chromosome: 10111111  \n",
            " ------------------\n",
            "zomorod\n",
            "yaqut\n",
            "almas\n",
            "berellian\n",
            "firuze\n",
            "aqiq\n",
            "kahroba\n"
          ]
        }
      ]
    },
    {
      "cell_type": "markdown",
      "source": [
        "# Q4\n"
      ],
      "metadata": {
        "id": "66z89vIQn6Oe"
      }
    },
    {
      "cell_type": "markdown",
      "source": [
        "at the beginning of particle swarm algorithm, we need to initialize particles and their velocities randomly. we do this here with float numbers between 0 and 1. \n",
        "\n",
        "pbest and gbest will caculated on next steps, we just initialize them with infinite float numbers."
      ],
      "metadata": {
        "id": "d5MPk9ViM_j2"
      }
    },
    {
      "cell_type": "code",
      "source": [
        "# Q4_graded\n",
        "import numpy as np\n",
        "def random_initialization(particles_no, mlp_weights_no):\n",
        "  particles = np.random.rand(particles_no, mlp_weights_no)\n",
        "  velocities = np.random.rand(particles_no, mlp_weights_no)\n",
        "  pbest = []\n",
        "  gbest = (particles[0], float('inf'))\n",
        "  for p in particles:\n",
        "    pbest.append((p, float('inf')))\n",
        "  return particles, velocities, pbest, gbest"
      ],
      "metadata": {
        "id": "Cp0SlopJL_kB"
      },
      "execution_count": 90,
      "outputs": []
    },
    {
      "cell_type": "markdown",
      "source": [
        "this method is the loss function for mlp. which means the fitness function for particle swarm optimization. takes the array of predicted y and the truth y values. the returns mean squared error for them."
      ],
      "metadata": {
        "id": "sYrfrFW5Nq3k"
      }
    },
    {
      "cell_type": "code",
      "source": [
        "# Q4_graded\n",
        "def mean_squared_error(y_predict, y):\n",
        "  return np.mean((y_predict - y) ** 2)"
      ],
      "metadata": {
        "id": "Db8u9LUcLVRh"
      },
      "execution_count": 91,
      "outputs": []
    },
    {
      "cell_type": "markdown",
      "source": [
        "we may need relu activation function for hidden layer."
      ],
      "metadata": {
        "id": "eyGag2msNiXP"
      }
    },
    {
      "cell_type": "code",
      "source": [
        "# Q4_graded\n",
        "def relu(x):\n",
        "  x[x<0] = 0\n",
        "  return x"
      ],
      "metadata": {
        "id": "aS1K5J_CTU1A"
      },
      "execution_count": 92,
      "outputs": []
    },
    {
      "cell_type": "markdown",
      "source": [
        "each particle is an array of weights. we need to convert this array to the exact layer so we can do the forward propagation. for example for a particle with 18 numbers, the first 12 numbers are hidden layer with shape (6,2) and the output layer is the last 6 numbers with shape (6,1)."
      ],
      "metadata": {
        "id": "Ov7gqifpOJHP"
      }
    },
    {
      "cell_type": "code",
      "source": [
        "# Q4_graded\n",
        "def particle_to_layer(particle, units=6):\n",
        "  input_length = int(particle.shape[0]/units) - 1\n",
        "  hidden_layer = np.zeros((units, input_length))\n",
        "  output_layer = np.zeros((units, 1))\n",
        "  for i in range(units):\n",
        "    for j in range(input_length):\n",
        "      hidden_layer[i, j] = particle[i*input_length+j]\n",
        "  \n",
        "  for i in range(units):\n",
        "    output_layer[i] = particle[units*input_length+i]\n",
        "  \n",
        "  return hidden_layer, output_layer"
      ],
      "metadata": {
        "id": "_OC1wo36RaQ5"
      },
      "execution_count": 93,
      "outputs": []
    },
    {
      "cell_type": "markdown",
      "source": [
        "we can predict the output of train data for each particle using this method."
      ],
      "metadata": {
        "id": "MEMauOsYOsTO"
      }
    },
    {
      "cell_type": "code",
      "source": [
        "# Q4_graded\n",
        "def predict(particle, x_train):\n",
        "  hidden_layer, output_layer = particle_to_layer(particle)\n",
        "  z = np.dot(x_train, hidden_layer.T)\n",
        "  y_predict = np.dot(z, output_layer)\n",
        "  return y_predict"
      ],
      "metadata": {
        "id": "PCfWLzEjM1MC"
      },
      "execution_count": 94,
      "outputs": []
    },
    {
      "cell_type": "markdown",
      "source": [
        "at each epoch, we need to update gbest = global lowest fitness and pbest = local lowest fitness. this will happen in this method."
      ],
      "metadata": {
        "id": "qoXlsn-1O10k"
      }
    },
    {
      "cell_type": "code",
      "source": [
        "# Q4_graded\n",
        "def update_bests(particles, fitnesses, pbest, gbest):\n",
        "  for i in range(len(fitnesses)):\n",
        "    p, f = pbest[i]\n",
        "    if f>=fitnesses[i]:\n",
        "      pbest[i] = (particles[i], fitnesses[i])\n",
        "\n",
        "    if gbest[1]>=fitnesses[i]:\n",
        "      gbest = (particles[i], fitnesses[i])\n",
        "  return pbest, gbest"
      ],
      "metadata": {
        "id": "S3DpnNGcYNoI"
      },
      "execution_count": 95,
      "outputs": []
    },
    {
      "cell_type": "markdown",
      "source": [
        "the must important steps on particle swarm optimization is updating the velocities vector. we call this method at the end of each epoch and find the new velocities."
      ],
      "metadata": {
        "id": "4-fVPEb-PC-e"
      }
    },
    {
      "cell_type": "code",
      "source": [
        "# Q4_graded\n",
        "from random import random\n",
        "def update_velocities(particles, velocities, w, c1, c2, pbest, gbest):\n",
        "  new_velocities = np.zeros(velocities.shape)\n",
        "  for i in range(velocities.shape[0]):\n",
        "    delta_p = pbest[i][0] - particles[i]\n",
        "    delta_g = gbest[0] - particles[i]\n",
        "    new_velocities[i] = w*velocities[i] + c1*random()*delta_p + c2*random()*delta_g\n",
        "  return new_velocities"
      ],
      "metadata": {
        "id": "AP2DFPrpf6cK"
      },
      "execution_count": 97,
      "outputs": []
    },
    {
      "cell_type": "markdown",
      "source": [
        "each particle must update with respect to the calculated velocity vector. so we pass the particles array and their velocities to this method, and it returns the new particles."
      ],
      "metadata": {
        "id": "-kgW9H4gPb-f"
      }
    },
    {
      "cell_type": "code",
      "source": [
        "# Q4_graded\n",
        "def update_particles(particles, new_velocities):\n",
        "  new_particles = particles + new_velocities\n",
        "  return new_particles"
      ],
      "metadata": {
        "id": "j0AoIvBmf_rX"
      },
      "execution_count": 98,
      "outputs": []
    },
    {
      "cell_type": "markdown",
      "source": [
        "this method calls each of the methods in the correct way. so with this function we can train our mlp neural network using particle swarm algorithm with passing the apporpriate hyperparameters beside the train data."
      ],
      "metadata": {
        "id": "oion0krZPtpI"
      }
    },
    {
      "cell_type": "code",
      "source": [
        "# Q4_graded\n",
        "def train_mlp(x_train, y_train, epochs, w, c1, c2, particles_no, mlp_weights_no):\n",
        "  particles, velocities, pbest, gbest = random_initialization(particles_no, mlp_weights_no)\n",
        "  for epoch in range(epochs):\n",
        "    fitnesses = []\n",
        "    for particle in particles:\n",
        "      y_predict = predict(particle, x_train)\n",
        "      fitnesses.append(mean_squared_error(y_predict, y_train))\n",
        "    pbest, gbest = update_bests(particles, fitnesses, pbest, gbest)\n",
        "    print('best fitness on epoch', epoch+1, 'is:', int(gbest[1]))\n",
        "    velocities = update_velocities(particles, velocities, w, c1, c2, pbest, gbest)\n",
        "    particles = update_particles(particles, velocities)\n",
        "  return gbest[0]"
      ],
      "metadata": {
        "id": "uvXJAaVbiep7"
      },
      "execution_count": 150,
      "outputs": []
    },
    {
      "cell_type": "markdown",
      "source": [
        " now we can run algorithm for each given function and evaluate the loss and accuracy for them:\n",
        "*   y=x\n",
        "\n"
      ],
      "metadata": {
        "id": "xJCUjBrrLq0i"
      }
    },
    {
      "cell_type": "code",
      "source": [
        "# Q4_graded\n",
        "x_train = np.random.randint(-10000, 10000, (10000, 1))\n",
        "y_train = x_train\n",
        "x_test = np.random.randint(-10000, 10000, (100, 1))\n",
        "y_test = x_test\n",
        "best_particle = train_mlp(x_train,\n",
        "                          y_train,\n",
        "                          epochs = 20,\n",
        "                          w = 0.5,\n",
        "                          c1 = 3,\n",
        "                          c2 = 1,\n",
        "                          particles_no = 200,\n",
        "                          mlp_weights_no= 12\n",
        "                )\n",
        "print('------------------------------------------------------')\n",
        "y_predict_train = np.rint(predict(best_particle, x_train))\n",
        "print(\"accuracy on train:\", 100 - 100 * (np.mean(y_predict_train != y_train)), '%')\n",
        "y_predict_test = np.rint(predict(best_particle, x_test))\n",
        "print(\"accuracy on test:\", 100 - 100 * (np.mean(y_predict_test != y_test)), '%')"
      ],
      "metadata": {
        "id": "PDu6iAKTn74B",
        "colab": {
          "base_uri": "https://localhost:8080/"
        },
        "outputId": "8c54e7c1-9ed8-4728-93d3-95e02744be95"
      },
      "execution_count": 122,
      "outputs": [
        {
          "output_type": "stream",
          "name": "stdout",
          "text": [
            "best fitness on epoch 1 is: 543\n",
            "best fitness on epoch 2 is: 543\n",
            "best fitness on epoch 3 is: 543\n",
            "best fitness on epoch 4 is: 543\n",
            "best fitness on epoch 5 is: 543\n",
            "best fitness on epoch 6 is: 543\n",
            "best fitness on epoch 7 is: 59\n",
            "best fitness on epoch 8 is: 59\n",
            "best fitness on epoch 9 is: 59\n",
            "best fitness on epoch 10 is: 59\n",
            "best fitness on epoch 11 is: 56\n",
            "best fitness on epoch 12 is: 56\n",
            "best fitness on epoch 13 is: 5\n",
            "best fitness on epoch 14 is: 5\n",
            "best fitness on epoch 15 is: 5\n",
            "best fitness on epoch 16 is: 0\n",
            "best fitness on epoch 17 is: 0\n",
            "best fitness on epoch 18 is: 0\n",
            "best fitness on epoch 19 is: 0\n",
            "best fitness on epoch 20 is: 0\n",
            "------------------------------------------------------\n",
            "accuracy on train: 100.0 %\n",
            "accuracy on test: 100.0 %\n"
          ]
        }
      ]
    },
    {
      "cell_type": "markdown",
      "source": [
        "\n",
        "\n",
        "*   y = x1 + x2\n"
      ],
      "metadata": {
        "id": "GaA4wWx1MC80"
      }
    },
    {
      "cell_type": "code",
      "source": [
        "# Q4_graded\n",
        "x_train = np.random.randint(-10000, 10000, (10000, 2))\n",
        "y_train = np.sum(x_train, axis=1, keepdims=True)\n",
        "x_test = np.random.randint(-10000, 10000, (100, 2))\n",
        "y_test = np.sum(x_test, axis=1, keepdims=True)\n",
        "best_particle = train_mlp(x_train,\n",
        "                          y_train,\n",
        "                          epochs = 50,\n",
        "                          w = 0.5,\n",
        "                          c1 = 3,\n",
        "                          c2 = 1,\n",
        "                          particles_no = 500,\n",
        "                          mlp_weights_no= 18\n",
        "                )\n",
        "print('------------------------------------------------------')\n",
        "y_predict_train = np.rint(predict(best_particle, x_train))\n",
        "print(\"accuracy on train:\", 100 - 100 * (np.mean(y_predict_train != y_train)), '%')\n",
        "y_predict_test = np.rint(predict(best_particle, x_test))\n",
        "print(\"accuracy on test:\", 100 - 100 * (np.mean(y_predict_test != y_test)), '%')"
      ],
      "metadata": {
        "colab": {
          "base_uri": "https://localhost:8080/"
        },
        "id": "uvqklW6vkWHh",
        "outputId": "4ea8db66-edf2-42b6-ebf4-f98962cd3fac"
      },
      "execution_count": 130,
      "outputs": [
        {
          "output_type": "stream",
          "name": "stdout",
          "text": [
            "best fitness on epoch 1 is: 7497\n",
            "best fitness on epoch 2 is: 7497\n",
            "best fitness on epoch 3 is: 7497\n",
            "best fitness on epoch 4 is: 7497\n",
            "best fitness on epoch 5 is: 7497\n",
            "best fitness on epoch 6 is: 7497\n",
            "best fitness on epoch 7 is: 5929\n",
            "best fitness on epoch 8 is: 3162\n",
            "best fitness on epoch 9 is: 3162\n",
            "best fitness on epoch 10 is: 796\n",
            "best fitness on epoch 11 is: 796\n",
            "best fitness on epoch 12 is: 796\n",
            "best fitness on epoch 13 is: 223\n",
            "best fitness on epoch 14 is: 223\n",
            "best fitness on epoch 15 is: 219\n",
            "best fitness on epoch 16 is: 182\n",
            "best fitness on epoch 17 is: 182\n",
            "best fitness on epoch 18 is: 154\n",
            "best fitness on epoch 19 is: 154\n",
            "best fitness on epoch 20 is: 51\n",
            "best fitness on epoch 21 is: 51\n",
            "best fitness on epoch 22 is: 43\n",
            "best fitness on epoch 23 is: 6\n",
            "best fitness on epoch 24 is: 6\n",
            "best fitness on epoch 25 is: 0\n",
            "best fitness on epoch 26 is: 0\n",
            "best fitness on epoch 27 is: 0\n",
            "best fitness on epoch 28 is: 0\n",
            "best fitness on epoch 29 is: 0\n",
            "best fitness on epoch 30 is: 0\n",
            "best fitness on epoch 31 is: 0\n",
            "best fitness on epoch 32 is: 0\n",
            "best fitness on epoch 33 is: 0\n",
            "best fitness on epoch 34 is: 0\n",
            "best fitness on epoch 35 is: 0\n",
            "best fitness on epoch 36 is: 0\n",
            "best fitness on epoch 37 is: 0\n",
            "best fitness on epoch 38 is: 0\n",
            "best fitness on epoch 39 is: 0\n",
            "best fitness on epoch 40 is: 0\n",
            "best fitness on epoch 41 is: 0\n",
            "best fitness on epoch 42 is: 0\n",
            "best fitness on epoch 43 is: 0\n",
            "best fitness on epoch 44 is: 0\n",
            "best fitness on epoch 45 is: 0\n",
            "best fitness on epoch 46 is: 0\n",
            "best fitness on epoch 47 is: 0\n",
            "best fitness on epoch 48 is: 0\n",
            "best fitness on epoch 49 is: 0\n",
            "best fitness on epoch 50 is: 0\n",
            "------------------------------------------------------\n",
            "accuracy on train: 100.0 %\n",
            "accuracy on test: 100.0 %\n"
          ]
        }
      ]
    },
    {
      "cell_type": "markdown",
      "source": [
        "* y = sin(x1) + cos(x2)"
      ],
      "metadata": {
        "id": "30QM9oVkMJdr"
      }
    },
    {
      "cell_type": "code",
      "source": [
        "# Q4_graded\n",
        "from math import sin, cos\n",
        "\n",
        "x_train = np.random.randint(-10000, 10000, (10000, 2))\n",
        "y_train = np.zeros((10000, 1))\n",
        "for i in range(x_train.shape[0]):\n",
        "  y_train[i] = sin(x_train[i,0]) + cos(x_train[i,1])\n",
        "\n",
        "x_test = np.random.randint(-10000, 10000, (100, 2))\n",
        "y_test = np.zeros((100, 1))\n",
        "for i in range(x_test.shape[0]):\n",
        "  y_test[i] = sin(x_test[i,0]) + cos(x_test[i,1])\n",
        "\n",
        "best_particle = train_mlp(x_train,\n",
        "                          y_train,\n",
        "                          epochs = 100,\n",
        "                          w = 0.5,\n",
        "                          c1 = 3,\n",
        "                          c2 = 1,\n",
        "                          particles_no = 200,\n",
        "                          mlp_weights_no= 18\n",
        "                )"
      ],
      "metadata": {
        "colab": {
          "base_uri": "https://localhost:8080/"
        },
        "id": "B9KpaYmfsZw5",
        "outputId": "63eef68c-7a30-438d-ecb6-39d7dcd98aa0"
      },
      "execution_count": 139,
      "outputs": [
        {
          "output_type": "stream",
          "name": "stdout",
          "text": [
            "best fitness on epoch 1 is: 20260400.71519408\n",
            "best fitness on epoch 2 is: 20260400.71519408\n",
            "best fitness on epoch 3 is: 23087.722293237017\n",
            "best fitness on epoch 4 is: 14224.95114302179\n",
            "best fitness on epoch 5 is: 12943.574263836608\n",
            "best fitness on epoch 6 is: 667.302753425106\n",
            "best fitness on epoch 7 is: 667.302753425106\n",
            "best fitness on epoch 8 is: 667.302753425106\n",
            "best fitness on epoch 9 is: 667.302753425106\n",
            "best fitness on epoch 10 is: 667.302753425106\n",
            "best fitness on epoch 11 is: 667.302753425106\n",
            "best fitness on epoch 12 is: 40.34102166078792\n",
            "best fitness on epoch 13 is: 40.34102166078792\n",
            "best fitness on epoch 14 is: 40.34102166078792\n",
            "best fitness on epoch 15 is: 40.34102166078792\n",
            "best fitness on epoch 16 is: 40.34102166078792\n",
            "best fitness on epoch 17 is: 40.34102166078792\n",
            "best fitness on epoch 18 is: 36.48012109354243\n",
            "best fitness on epoch 19 is: 36.48012109354243\n",
            "best fitness on epoch 20 is: 34.94813972395849\n",
            "best fitness on epoch 21 is: 34.94813972395849\n",
            "best fitness on epoch 22 is: 21.31136199463267\n",
            "best fitness on epoch 23 is: 2.7473570841705657\n",
            "best fitness on epoch 24 is: 2.7473570841705657\n",
            "best fitness on epoch 25 is: 1.3861007649011072\n",
            "best fitness on epoch 26 is: 1.3861007649011072\n",
            "best fitness on epoch 27 is: 1.194692020481353\n",
            "best fitness on epoch 28 is: 1.1463928272837638\n",
            "best fitness on epoch 29 is: 1.1463928272837638\n",
            "best fitness on epoch 30 is: 1.1463928272837638\n",
            "best fitness on epoch 31 is: 1.1463928272837638\n",
            "best fitness on epoch 32 is: 1.1406419735215163\n",
            "best fitness on epoch 33 is: 1.059248282496647\n",
            "best fitness on epoch 34 is: 1.059248282496647\n",
            "best fitness on epoch 35 is: 1.059248282496647\n",
            "best fitness on epoch 36 is: 0.9976958123760876\n",
            "best fitness on epoch 37 is: 0.9976958123760876\n",
            "best fitness on epoch 38 is: 0.9976958123760876\n",
            "best fitness on epoch 39 is: 0.9976958123760876\n",
            "best fitness on epoch 40 is: 0.9960607004361064\n",
            "best fitness on epoch 41 is: 0.9960607004361064\n",
            "best fitness on epoch 42 is: 0.9960607004361064\n",
            "best fitness on epoch 43 is: 0.9959531497072139\n",
            "best fitness on epoch 44 is: 0.9957251519833146\n",
            "best fitness on epoch 45 is: 0.9957251519833146\n",
            "best fitness on epoch 46 is: 0.9956873681766314\n",
            "best fitness on epoch 47 is: 0.9956873681766314\n",
            "best fitness on epoch 48 is: 0.9956873681766314\n",
            "best fitness on epoch 49 is: 0.9956865589091516\n",
            "best fitness on epoch 50 is: 0.9956865589091516\n",
            "best fitness on epoch 51 is: 0.9956689930734568\n",
            "best fitness on epoch 52 is: 0.9956689930734568\n",
            "best fitness on epoch 53 is: 0.9956677561551948\n",
            "best fitness on epoch 54 is: 0.9956676355413185\n",
            "best fitness on epoch 55 is: 0.9956676355413185\n",
            "best fitness on epoch 56 is: 0.9956676355413185\n",
            "best fitness on epoch 57 is: 0.9956676355413185\n",
            "best fitness on epoch 58 is: 0.9956675689771335\n",
            "best fitness on epoch 59 is: 0.9956675689771335\n",
            "best fitness on epoch 60 is: 0.9956675689771335\n",
            "best fitness on epoch 61 is: 0.9956675577588215\n",
            "best fitness on epoch 62 is: 0.9956675527837315\n",
            "best fitness on epoch 63 is: 0.9956675510117946\n",
            "best fitness on epoch 64 is: 0.9956675503047482\n",
            "best fitness on epoch 65 is: 0.9956675499959609\n",
            "best fitness on epoch 66 is: 0.995667549852752\n",
            "best fitness on epoch 67 is: 0.9956675497839408\n",
            "best fitness on epoch 68 is: 0.9956675497502363\n",
            "best fitness on epoch 69 is: 0.9956675497335568\n",
            "best fitness on epoch 70 is: 0.9956675476525514\n",
            "best fitness on epoch 71 is: 0.9956675469674042\n",
            "best fitness on epoch 72 is: 0.9956675469674042\n",
            "best fitness on epoch 73 is: 0.9956675469674042\n",
            "best fitness on epoch 74 is: 0.9956675469432367\n",
            "best fitness on epoch 75 is: 0.9956675469432367\n",
            "best fitness on epoch 76 is: 0.9956675468573687\n",
            "best fitness on epoch 77 is: 0.9956675468573687\n",
            "best fitness on epoch 78 is: 0.9956675468334093\n",
            "best fitness on epoch 79 is: 0.995667546814764\n",
            "best fitness on epoch 80 is: 0.995667546814764\n",
            "best fitness on epoch 81 is: 0.995667546814764\n",
            "best fitness on epoch 82 is: 0.995667546814764\n",
            "best fitness on epoch 83 is: 0.995667546814764\n",
            "best fitness on epoch 84 is: 0.995667546814764\n",
            "best fitness on epoch 85 is: 0.9956675467885392\n",
            "best fitness on epoch 86 is: 0.9956675467885392\n",
            "best fitness on epoch 87 is: 0.9956675467885392\n",
            "best fitness on epoch 88 is: 0.9956675467450224\n",
            "best fitness on epoch 89 is: 0.9956675467450224\n",
            "best fitness on epoch 90 is: 0.9956675467450224\n",
            "best fitness on epoch 91 is: 0.9956675467426161\n",
            "best fitness on epoch 92 is: 0.9956675467426161\n",
            "best fitness on epoch 93 is: 0.9956675467426161\n",
            "best fitness on epoch 94 is: 0.9956675467426161\n",
            "best fitness on epoch 95 is: 0.9956675467426161\n",
            "best fitness on epoch 96 is: 0.9956675467426161\n",
            "best fitness on epoch 97 is: 0.9956675467425928\n",
            "best fitness on epoch 98 is: 0.9956675467425754\n",
            "best fitness on epoch 99 is: 0.9956675467425754\n",
            "best fitness on epoch 100 is: 0.9956675467425754\n"
          ]
        }
      ]
    },
    {
      "cell_type": "code",
      "source": [
        "# Q4_graded\n",
        "print(\"the numbers are float here so we can't take accuracy as a good method because the network can't predict the exact value!\")\n",
        "y_predict_train = predict(best_particle, x_train)\n",
        "print(\"mean square error on train:\", mean_squared_error(y_predict_train, y_train))\n",
        "y_predict_test = np.rint(predict(best_particle, x_test))\n",
        "print(\"mean square error on test:\", mean_squared_error(y_predict_test, y_test))"
      ],
      "metadata": {
        "colab": {
          "base_uri": "https://localhost:8080/"
        },
        "id": "ABn2UIweuYkh",
        "outputId": "e12a1c92-3c39-484e-a01a-3eba9a7bd7d9"
      },
      "execution_count": 141,
      "outputs": [
        {
          "output_type": "stream",
          "name": "stdout",
          "text": [
            "the numbers are float here so we can't take accuracy as a good method because the network can't predict the exact value!\n",
            "mean square error on train: 0.9956675467425754\n",
            "mean square error on test: 1.027357302671627\n"
          ]
        }
      ]
    },
    {
      "cell_type": "markdown",
      "source": [
        "\n",
        "\n",
        "*   y = x1 * x2\n",
        "\n",
        "this mlp network doesn't have enough capacity to fit on this function. so the result isn't satisfying.\n"
      ],
      "metadata": {
        "id": "isyTxRaYMjzE"
      }
    },
    {
      "cell_type": "code",
      "source": [
        "# Q4_graded\n",
        "x_train = np.random.randint(-10, 10, (100, 2))\n",
        "y_train = np.prod(x_train, axis=1, keepdims=True)\n",
        "\n",
        "x_test = np.random.randint(-10, 10, (10, 2))\n",
        "y_test = np.prod(x_test, axis=1, keepdims=True)\n",
        "\n",
        "best_particle = train_mlp(x_train,\n",
        "                          y_train,\n",
        "                          epochs = 100,\n",
        "                          w = 0.5,\n",
        "                          c1 = 3,\n",
        "                          c2 = 1,\n",
        "                          particles_no = 100,\n",
        "                          mlp_weights_no= 18\n",
        "                )\n",
        "print('------------------------------------------------------')\n",
        "y_predict_train = np.rint(predict(best_particle, x_train))\n",
        "print(\"accuracy on train:\", 100 - 100 * (np.mean(y_predict_train != y_train)), '%')\n",
        "y_predict_test = np.rint(predict(best_particle, x_test))\n",
        "print(\"accuracy on test:\", 100 - 100 * (np.mean(y_predict_test != y_test)), '%')"
      ],
      "metadata": {
        "colab": {
          "base_uri": "https://localhost:8080/"
        },
        "id": "OD-DIDAcwEjg",
        "outputId": "527895a7-70c1-4517-f6d6-a522b3027a64"
      },
      "execution_count": 170,
      "outputs": [
        {
          "output_type": "stream",
          "name": "stdout",
          "text": [
            "best fitness on epoch 1 is: 1372\n",
            "best fitness on epoch 2 is: 1372\n",
            "best fitness on epoch 3 is: 1245\n",
            "best fitness on epoch 4 is: 1241\n",
            "best fitness on epoch 5 is: 1241\n",
            "best fitness on epoch 6 is: 1240\n",
            "best fitness on epoch 7 is: 1240\n",
            "best fitness on epoch 8 is: 1240\n",
            "best fitness on epoch 9 is: 1240\n",
            "best fitness on epoch 10 is: 1240\n",
            "best fitness on epoch 11 is: 1240\n",
            "best fitness on epoch 12 is: 1240\n",
            "best fitness on epoch 13 is: 1240\n",
            "best fitness on epoch 14 is: 1240\n",
            "best fitness on epoch 15 is: 1240\n",
            "best fitness on epoch 16 is: 1240\n",
            "best fitness on epoch 17 is: 1240\n",
            "best fitness on epoch 18 is: 1240\n",
            "best fitness on epoch 19 is: 1240\n",
            "best fitness on epoch 20 is: 1240\n",
            "best fitness on epoch 21 is: 1240\n",
            "best fitness on epoch 22 is: 1240\n",
            "best fitness on epoch 23 is: 1240\n",
            "best fitness on epoch 24 is: 1240\n",
            "best fitness on epoch 25 is: 1240\n",
            "best fitness on epoch 26 is: 1240\n",
            "best fitness on epoch 27 is: 1240\n",
            "best fitness on epoch 28 is: 1240\n",
            "best fitness on epoch 29 is: 1240\n",
            "best fitness on epoch 30 is: 1240\n",
            "best fitness on epoch 31 is: 1240\n",
            "best fitness on epoch 32 is: 1240\n",
            "best fitness on epoch 33 is: 1240\n",
            "best fitness on epoch 34 is: 1240\n",
            "best fitness on epoch 35 is: 1240\n",
            "best fitness on epoch 36 is: 1240\n",
            "best fitness on epoch 37 is: 1240\n",
            "best fitness on epoch 38 is: 1240\n",
            "best fitness on epoch 39 is: 1240\n",
            "best fitness on epoch 40 is: 1240\n",
            "best fitness on epoch 41 is: 1240\n",
            "best fitness on epoch 42 is: 1240\n",
            "best fitness on epoch 43 is: 1240\n",
            "best fitness on epoch 44 is: 1240\n",
            "best fitness on epoch 45 is: 1240\n",
            "best fitness on epoch 46 is: 1240\n",
            "best fitness on epoch 47 is: 1240\n",
            "best fitness on epoch 48 is: 1240\n",
            "best fitness on epoch 49 is: 1240\n",
            "best fitness on epoch 50 is: 1240\n",
            "best fitness on epoch 51 is: 1240\n",
            "best fitness on epoch 52 is: 1240\n",
            "best fitness on epoch 53 is: 1240\n",
            "best fitness on epoch 54 is: 1240\n",
            "best fitness on epoch 55 is: 1240\n",
            "best fitness on epoch 56 is: 1240\n",
            "best fitness on epoch 57 is: 1240\n",
            "best fitness on epoch 58 is: 1240\n",
            "best fitness on epoch 59 is: 1240\n",
            "best fitness on epoch 60 is: 1240\n",
            "best fitness on epoch 61 is: 1240\n",
            "best fitness on epoch 62 is: 1240\n",
            "best fitness on epoch 63 is: 1240\n",
            "best fitness on epoch 64 is: 1240\n",
            "best fitness on epoch 65 is: 1240\n",
            "best fitness on epoch 66 is: 1240\n",
            "best fitness on epoch 67 is: 1240\n",
            "best fitness on epoch 68 is: 1240\n",
            "best fitness on epoch 69 is: 1240\n",
            "best fitness on epoch 70 is: 1240\n",
            "best fitness on epoch 71 is: 1240\n",
            "best fitness on epoch 72 is: 1240\n",
            "best fitness on epoch 73 is: 1240\n",
            "best fitness on epoch 74 is: 1240\n",
            "best fitness on epoch 75 is: 1240\n",
            "best fitness on epoch 76 is: 1240\n",
            "best fitness on epoch 77 is: 1240\n",
            "best fitness on epoch 78 is: 1240\n",
            "best fitness on epoch 79 is: 1240\n",
            "best fitness on epoch 80 is: 1240\n",
            "best fitness on epoch 81 is: 1240\n",
            "best fitness on epoch 82 is: 1240\n",
            "best fitness on epoch 83 is: 1240\n",
            "best fitness on epoch 84 is: 1240\n",
            "best fitness on epoch 85 is: 1240\n",
            "best fitness on epoch 86 is: 1240\n",
            "best fitness on epoch 87 is: 1240\n",
            "best fitness on epoch 88 is: 1240\n",
            "best fitness on epoch 89 is: 1240\n",
            "best fitness on epoch 90 is: 1240\n",
            "best fitness on epoch 91 is: 1240\n",
            "best fitness on epoch 92 is: 1240\n",
            "best fitness on epoch 93 is: 1240\n",
            "best fitness on epoch 94 is: 1240\n",
            "best fitness on epoch 95 is: 1240\n",
            "best fitness on epoch 96 is: 1240\n",
            "best fitness on epoch 97 is: 1240\n",
            "best fitness on epoch 98 is: 1240\n",
            "best fitness on epoch 99 is: 1240\n",
            "best fitness on epoch 100 is: 1240\n",
            "------------------------------------------------------\n",
            "accuracy on train: 1.0 %\n",
            "accuracy on test: 10.0 %\n"
          ]
        }
      ]
    },
    {
      "cell_type": "markdown",
      "metadata": {
        "id": "iRqYhKw1rgUp"
      },
      "source": [
        "# <font color='red'>Submission</font>\n",
        "\n",
        "1. Sign up in [Gradescope](https://www.gradescope.com) with proper name and student ID and use the following code to join the class: <font color='red'>**4PZD84**</font>\n",
        "2. Fill in your full name (seperated by single spaces) and student ID in the beginning of this notebook.\n",
        "3. After you're done with this notebook, you should do the following:\n",
        "  - Clear all outputs of the notebook.\n",
        "  ![clear all outputs](https://i.ibb.co/y6FrttB/Screen-Shot-2021-03-21-at-01-51-42.png)\n",
        "  - Run all of the cells (if you skipped a question just leave the cell unchanged), and make sure all of your outputs are correct.\n",
        "  ![run all](https://i.ibb.co/cgRcBZ0/Screen-Shot-2021-03-21-at-01-54-58.png)\n",
        "  - Save your notebook.\n",
        "  \n",
        "  - If you're using Colab, download your notebook.\n",
        "  ![download ipynb](https://i.ibb.co/2KxYM6K/Screen-Shot-2021-03-21-at-02-03-50.png)\n",
        "  \n",
        "  - Put the notebook file you just downloaded and `convert.py` in the same folder run the following command:\n",
        "  ```bash\n",
        "  python convert.py\n",
        "  ```\n",
        "  This will export your code for each question into a `.py` file.\n",
        "    - **Note**: if you want to add more cells, add this to the **first** line of the cell:\n",
        "  ```python\n",
        "  # Q1_graded\n",
        "  ```\n",
        "  according to the question number.\n",
        "  - There are 2 assignments in Gradescope:\n",
        "\n",
        "    ![assignments](https://i.ibb.co/10GMhGM/Screen-Shot-2021-03-21-at-02-16-25.png)\n",
        "  \n",
        "    You should upload your **codes** and your **notebook** in `HW1` section and your final report for all of the questions as a **single pdf** file in `HW5 - Report`. Autograder will automatically check for:\n",
        "    - `CI001_HW5.ipynb`\n",
        "    - `Q1.py`\n",
        "    - `Q2.py`\n",
        "    - `Q3.py`\n",
        "    - Your name and ID in the beginning of `.ipynb` file.\n",
        "\n",
        "    It is important that you <font color='red'>**don't**</font> change the names of these files before submission.\n",
        "\n",
        "4. If you pass the autograder, you're good to go."
      ]
    },
    {
      "cell_type": "code",
      "metadata": {
        "id": "bEgumj_rqxKk"
      },
      "source": [
        ""
      ],
      "execution_count": null,
      "outputs": []
    }
  ]
}